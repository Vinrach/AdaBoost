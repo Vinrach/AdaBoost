{
 "cells": [
  {
   "cell_type": "code",
   "execution_count": 21,
   "id": "8feee9db-1531-43ba-bcd4-46a8f52fbaed",
   "metadata": {
    "tags": []
   },
   "outputs": [],
   "source": [
    "import pandas as pd\n",
    "import numpy as np\n",
    "import random\n",
    "import itertools\n",
    "import matplotlib.pyplot as plt"
   ]
  },
  {
   "cell_type": "code",
   "execution_count": 23,
   "id": "842bdf5b-7ff9-4009-a635-659212670553",
   "metadata": {
    "tags": []
   },
   "outputs": [],
   "source": [
    "# Load the dataset\n",
    "data = pd.read_csv('breast-cancer-wisconsin-data.csv')  # Update this with the correct path"
   ]
  },
  {
   "cell_type": "code",
   "execution_count": 25,
   "id": "64dff9c4-394c-425e-bf2e-3af45cc73236",
   "metadata": {
    "tags": []
   },
   "outputs": [],
   "source": [
    "# Preprocessing\n",
    "data = data.drop(columns=['id'])\n",
    "X = data.drop(columns=['diagnosis']).values  # Features as numpy array\n",
    "y = data['diagnosis'].apply(lambda x: 1 if x == 'M' else -1).values  # Target as -1 for benign, 1 for malignant"
   ]
  },
  {
   "cell_type": "code",
   "execution_count": 27,
   "id": "4bbdb53a-9b82-4a99-b1e9-ac04817e9c37",
   "metadata": {
    "tags": []
   },
   "outputs": [],
   "source": [
    "# Split data manually into train and test sets\n",
    "np.random.seed(42)\n",
    "indices = np.random.permutation(len(X))\n",
    "train_size = int(0.7 * len(X))\n",
    "train_idx, test_idx = indices[:train_size], indices[train_size:]\n",
    "X_train, X_test = X[train_idx], X[test_idx]\n",
    "y_train, y_test = y[train_idx], y[test_idx]\n",
    "\n",
    "# Initialize the AdaBoost implementation from scratch\n",
    "def decision_stump(X, y, w):\n",
    "    n, m = X.shape\n",
    "    best_stump = {}\n",
    "    min_error = float('inf')\n",
    "\n",
    "    # Iterate over each feature\n",
    "    for i in range(m):\n",
    "        feature_values = np.unique(X[:, i])\n",
    "        thresholds = (feature_values[:-1] + feature_values[1:]) / 2  # Calculate midpoints between unique values\n",
    "        for threshold in thresholds:\n",
    "            for inequality in ['lt', 'gt']:  # Less than or greater than threshold\n",
    "                prediction = np.ones(n)\n",
    "                if inequality == 'lt':\n",
    "                    prediction[X[:, i] <= threshold] = -1\n",
    "                else:\n",
    "                    prediction[X[:, i] > threshold] = -1\n",
    "                error = np.sum(w * (prediction != y))\n",
    "\n",
    "                if error < min_error:\n",
    "                    min_error = error\n",
    "                    best_stump = {\n",
    "                        'feature_index': i,\n",
    "                        'threshold': threshold,\n",
    "                        'inequality': inequality\n",
    "                    }\n",
    "\n",
    "    return best_stump, min_error"
   ]
  },
  {
   "cell_type": "code",
   "execution_count": 29,
   "id": "d2f0012e-feb3-48db-8323-af8b69bb5552",
   "metadata": {
    "tags": []
   },
   "outputs": [],
   "source": [
    "# AdaBoost from scratch\n",
    "def ada_boost(X, y, n_estimators, learning_rate):\n",
    "    n, m = X.shape\n",
    "    w = np.ones(n) / n  # Initialize equal weights\n",
    "    weak_classifiers = []\n",
    "    alpha = []\n",
    "\n",
    "    for t in range(n_estimators):\n",
    "        # Train decision stump\n",
    "        stump, error = decision_stump(X, y, w)\n",
    "\n",
    "        # Compute the alpha (classifier weight)\n",
    "        eps = 1e-10  # To avoid division by zero\n",
    "        classifier_weight = 0.5 * np.log((1 - error) / (error + eps))\n",
    "\n",
    "        # Store the weak classifier\n",
    "        weak_classifiers.append(stump)\n",
    "        alpha.append(classifier_weight)\n",
    "\n",
    "        # Get predictions from the stump\n",
    "        prediction = np.ones(n)\n",
    "        feature = X[:, stump['feature_index']]\n",
    "        if stump['inequality'] == 'lt':\n",
    "            prediction[feature <= stump['threshold']] = -1\n",
    "        else:\n",
    "            prediction[feature > stump['threshold']] = -1\n",
    "\n",
    "        # Update weights\n",
    "        w = w * np.exp(-classifier_weight * y * prediction)\n",
    "        w = w / w.sum()  # Normalize weights\n",
    "\n",
    "    return weak_classifiers, alpha"
   ]
  },
  {
   "cell_type": "code",
   "execution_count": 31,
   "id": "f94d5547-894c-4d2f-9ac1-2fd02fbbc531",
   "metadata": {
    "tags": []
   },
   "outputs": [],
   "source": [
    "# Prediction function\n",
    "def predict(X, weak_classifiers, alpha):\n",
    "    n = X.shape[0]\n",
    "    final_predictions = np.zeros(n)\n",
    "\n",
    "    for i, stump in enumerate(weak_classifiers):\n",
    "        prediction = np.ones(n)\n",
    "        feature = X[:, stump['feature_index']]\n",
    "        if stump['inequality'] == 'lt':\n",
    "            prediction[feature <= stump['threshold']] = -1\n",
    "        else:\n",
    "            prediction[feature > stump['threshold']] = -1\n",
    "\n",
    "        final_predictions += alpha[i] * prediction\n",
    "\n",
    "    return np.sign(final_predictions)"
   ]
  },
  {
   "cell_type": "code",
   "execution_count": 33,
   "id": "cf8bb8c1-bbf6-4225-b9da-677379ba0b9b",
   "metadata": {
    "tags": []
   },
   "outputs": [],
   "source": [
    "# Hyperparameter evaluation\n",
    "def evaluate_hyperparameters(X_train, y_train, X_test, y_test, hyperparams):\n",
    "    best_accuracy = 0\n",
    "    best_params = None\n",
    "\n",
    "    for params in hyperparams:\n",
    "        n_estimators = params['n_estimators']\n",
    "        learning_rate = params['learning_rate']\n",
    "\n",
    "        weak_classifiers, alpha = ada_boost(X_train, y_train, n_estimators, learning_rate)\n",
    "        y_pred = predict(X_test, weak_classifiers, alpha)\n",
    "        accuracy = np.mean(y_pred == y_test)\n",
    "\n",
    "        if accuracy > best_accuracy:\n",
    "            best_accuracy = accuracy\n",
    "            best_params = params\n",
    "\n",
    "    return best_params, best_accuracy"
   ]
  },
  {
   "cell_type": "code",
   "execution_count": 35,
   "id": "7ab7c5b9-f15c-45af-ab9b-cddd0886c198",
   "metadata": {
    "tags": []
   },
   "outputs": [],
   "source": [
    "# Define hyperparameters\n",
    "hyperparams = [\n",
    "    {'n_estimators': 50, 'learning_rate': 1.0},\n",
    "    {'n_estimators': 100, 'learning_rate': 0.5},\n",
    "    {'n_estimators': 200, 'learning_rate': 0.1},\n",
    "    {'n_estimators': 50, 'learning_rate': 0.1},\n",
    "]"
   ]
  },
  {
   "cell_type": "code",
   "execution_count": 40,
   "id": "48e9c04a-ad3c-4387-a495-9c57ca54d904",
   "metadata": {
    "tags": []
   },
   "outputs": [
    {
     "name": "stdout",
     "output_type": "stream",
     "text": [
      "Best Parameters: {'n_estimators': 100, 'learning_rate': 0.5}\n",
      "Best Accuracy: 97.66%\n"
     ]
    }
   ],
   "source": [
    "# Evaluate the hyperparameters\n",
    "best_params, best_accuracy = evaluate_hyperparameters(X_train, y_train, X_test, y_test, hyperparams)\n",
    "\n",
    "print(f\"Best Parameters: {best_params}\")\n",
    "print(f\"Best Accuracy: {best_accuracy * 100:.2f}%\")"
   ]
  },
  {
   "cell_type": "code",
   "execution_count": 41,
   "id": "9ec3660c-5e49-4623-b616-9992ac711c35",
   "metadata": {
    "tags": []
   },
   "outputs": [
    {
     "name": "stdout",
     "output_type": "stream",
     "text": [
      "Final Model Accuracy: 97.66%\n"
     ]
    }
   ],
   "source": [
    "# Final model with best hyperparameters\n",
    "best_weak_classifiers, best_alpha = ada_boost(X_train, y_train, best_params['n_estimators'], best_params['learning_rate'])\n",
    "y_pred_final = predict(X_test, best_weak_classifiers, best_alpha)\n",
    "final_accuracy = np.mean(y_pred_final == y_test)\n",
    "\n",
    "print(f\"Final Model Accuracy: {final_accuracy * 100:.2f}%\")"
   ]
  },
  {
   "cell_type": "code",
   "execution_count": 42,
   "id": "eb4c27b2-b415-4075-b56d-313433996316",
   "metadata": {
    "tags": []
   },
   "outputs": [
    {
     "data": {
      "image/png": "[encoded data removed]",
      "text/plain": [
       "<Figure size 640x480 with 1 Axes>"
      ]
     },
     "metadata": {},
     "output_type": "display_data"
    }
   ],
   "source": [
    "# Plotting feature importance\n",
    "feature_importance = np.zeros(X_train.shape[1])\n",
    "for i, stump in enumerate(best_weak_classifiers):\n",
    "    feature_importance[stump['feature_index']] += best_alpha[i]\n",
    "\n",
    "plt.bar(range(X_train.shape[1]), feature_importance)\n",
    "plt.xlabel('Feature Index')\n",
    "plt.ylabel('Feature Importance')\n",
    "plt.title('Feature Importance from AdaBoost')\n",
    "plt.show()"
   ]
  },
  {
   "cell_type": "code",
   "execution_count": null,
   "id": "6193045f-0502-4a37-baa7-1396a574ff53",
   "metadata": {},
   "outputs": [],
   "source": []
  }
 ],
 "metadata": {
  "kernelspec": {
   "display_name": "Python 3 (ipykernel)",
   "language": "python",
   "name": "python3"
  },
  "language_info": {
   "codemirror_mode": {
    "name": "ipython",
    "version": 3
   },
   "file_extension": ".py",
   "mimetype": "text/x-python",
   "name": "python",
   "nbconvert_exporter": "python",
   "pygments_lexer": "ipython3",
   "version": "3.11.5"
  }
 },
 "nbformat": 4,
 "nbformat_minor": 5
}
